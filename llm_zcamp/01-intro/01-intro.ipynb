{
 "cells": [
  {
   "cell_type": "markdown",
   "metadata": {},
   "source": [
    "# Libs"
   ]
  },
  {
   "cell_type": "code",
   "execution_count": 1,
   "metadata": {},
   "outputs": [],
   "source": [
    "from  openai import OpenAI # type: ignore\n",
    "import minsearch # type: ignore\n",
    "import json\n",
    "import textwrap"
   ]
  },
  {
   "cell_type": "markdown",
   "metadata": {},
   "source": [
    "# Api key"
   ]
  },
  {
   "cell_type": "code",
   "execution_count": 2,
   "metadata": {},
   "outputs": [],
   "source": [
    "apikey = open('txt.txt').read()\n",
    "client = OpenAI(api_key=apikey)"
   ]
  },
  {
   "cell_type": "markdown",
   "metadata": {},
   "source": [
    "# Search by prepared search engine"
   ]
  },
  {
   "cell_type": "code",
   "execution_count": 3,
   "metadata": {},
   "outputs": [],
   "source": [
    "with open('documents.json', 'rt') as f_in:\n",
    "    docs_raw = json.load(f_in)\n",
    "\n",
    "documents = []\n",
    "for course_dict in docs_raw:\n",
    "    for doc in course_dict['documents']:\n",
    "        doc['course'] = course_dict['course']\n",
    "        documents.append(doc)"
   ]
  },
  {
   "cell_type": "code",
   "execution_count": 5,
   "metadata": {},
   "outputs": [
    {
     "data": {
      "text/plain": [
       "{'text': \"The purpose of this document is to capture frequently asked technical questions\\nThe exact day and hour of the course will be 15th Jan 2024 at 17h00. The course will start with the first  “Office Hours'' live.1\\nSubscribe to course public Google Calendar (it works from Desktop only).\\nRegister before the course starts using this link.\\nJoin the course Telegram channel with announcements.\\nDon’t forget to register in DataTalks.Club's Slack and join the channel.\",\n",
       " 'section': 'General course-related questions',\n",
       " 'question': 'Course - When will the course start?',\n",
       " 'course': 'data-engineering-zoomcamp'}"
      ]
     },
     "execution_count": 5,
     "metadata": {},
     "output_type": "execute_result"
    }
   ],
   "source": [
    "documents[0]"
   ]
  },
  {
   "cell_type": "code",
   "execution_count": 6,
   "metadata": {},
   "outputs": [
    {
     "data": {
      "text/plain": [
       "<minsearch.Index at 0x7c91932a1990>"
      ]
     },
     "execution_count": 6,
     "metadata": {},
     "output_type": "execute_result"
    }
   ],
   "source": [
    "index = minsearch.Index(\n",
    "        text_fields = ['question', 'text','section'],\n",
    "        keyword_fields = ['course'],\n",
    ")\n",
    "index.fit(documents)"
   ]
  },
  {
   "cell_type": "code",
   "execution_count": 10,
   "metadata": {},
   "outputs": [
    {
     "data": {
      "text/plain": [
       "[{'text': \"Yes, even if you don't register, you're still eligible to submit the homeworks.\\nBe aware, however, that there will be deadlines for turning in the final projects. So don't leave everything for the last minute.\",\n",
       "  'section': 'General course-related questions',\n",
       "  'question': 'Course - Can I still join the course after the start date?',\n",
       "  'course': 'data-engineering-zoomcamp'},\n",
       " {'text': 'Yes, we will keep all the materials after the course finishes, so you can follow the course at your own pace after it finishes.\\nYou can also continue looking at the homeworks and continue preparing for the next cohort. I guess you can also start working on your final capstone project.',\n",
       "  'section': 'General course-related questions',\n",
       "  'question': 'Course - Can I follow the course after it finishes?',\n",
       "  'course': 'data-engineering-zoomcamp'},\n",
       " {'text': \"The purpose of this document is to capture frequently asked technical questions\\nThe exact day and hour of the course will be 15th Jan 2024 at 17h00. The course will start with the first  “Office Hours'' live.1\\nSubscribe to course public Google Calendar (it works from Desktop only).\\nRegister before the course starts using this link.\\nJoin the course Telegram channel with announcements.\\nDon’t forget to register in DataTalks.Club's Slack and join the channel.\",\n",
       "  'section': 'General course-related questions',\n",
       "  'question': 'Course - When will the course start?',\n",
       "  'course': 'data-engineering-zoomcamp'},\n",
       " {'text': 'You can start by installing and setting up all the dependencies and requirements:\\nGoogle cloud account\\nGoogle Cloud SDK\\nPython 3 (installed with Anaconda)\\nTerraform\\nGit\\nLook over the prerequisites and syllabus to see if you are comfortable with these subjects.',\n",
       "  'section': 'General course-related questions',\n",
       "  'question': 'Course - What can I do before the course starts?',\n",
       "  'course': 'data-engineering-zoomcamp'},\n",
       " {'text': 'Yes, the slack channel remains open and you can ask questions there. But always sDocker containers exit code w search the channel first and second, check the FAQ (this document), most likely all your questions are already answered here.\\nYou can also tag the bot @ZoomcampQABot to help you conduct the search, but don’t rely on its answers 100%, it is pretty good though.',\n",
       "  'section': 'General course-related questions',\n",
       "  'question': 'Course - Can I get support if I take the course in the self-paced mode?',\n",
       "  'course': 'data-engineering-zoomcamp'}]"
      ]
     },
     "execution_count": 10,
     "metadata": {},
     "output_type": "execute_result"
    }
   ],
   "source": [
    "q = 'the course has already started, can I still enroll?'\n",
    "\n",
    "boost = {'question': 3., 'section': 0.5 }\n",
    "results = index.search(\n",
    "            query = q,\n",
    "            filter_dict = {'course': 'data-engineering-zoomcamp'},\n",
    "            boost_dict = boost,\n",
    "            num_results = 5\n",
    ")\n",
    "results"
   ]
  },
  {
   "cell_type": "code",
   "execution_count": 11,
   "metadata": {},
   "outputs": [],
   "source": [
    "response = client.chat.completions.create(\n",
    "                model='gpt-4o',\n",
    "                messages = [{'role':'user', 'content':q}]\n",
    ")"
   ]
  },
  {
   "cell_type": "code",
   "execution_count": 12,
   "metadata": {},
   "outputs": [
    {
     "data": {
      "text/plain": [
       "['The ability to enroll in a course after it has',\n",
       " 'started depends on several factors, including the',\n",
       " 'policies of the institution or platform offering',\n",
       " \"the course, the instructor's discretion, and the\",\n",
       " \"specific course's structure and capacity. Here are\",\n",
       " \"some steps you can take to determine whether it's\",\n",
       " 'possible to enroll late:  1. **Check Enrollment',\n",
       " 'Policies:**    - Visit the course or institution’s',\n",
       " 'website to find out if they allow late enrollment.',\n",
       " '- Look for specific deadlines for adding courses.',\n",
       " '2. **Contact the Instructor:**    - Send an email',\n",
       " 'or message to the course instructor explaining',\n",
       " 'your situation and expressing your interest in',\n",
       " 'joining the course.    - Include any relevant',\n",
       " 'information, such as why you missed the initial',\n",
       " 'enrollment period and how you plan to catch up on',\n",
       " 'missed material.  3. **Contact the Registrar or',\n",
       " 'Administration:**    - Get in touch with the',\n",
       " \"registrar's office or the administration of the\",\n",
       " 'institution offering the course.    - They can',\n",
       " 'provide information on whether late enrollment is',\n",
       " 'possible and if there are any additional steps you',\n",
       " 'need to take.  4. **Review Course Materials:**',\n",
       " '- If you are given permission to join the course',\n",
       " 'late, review any materials or lectures you missed',\n",
       " 'as soon as possible.    - Some online courses may',\n",
       " 'have recorded lectures and resources readily',\n",
       " 'available to help you catch up.  5. **Understand',\n",
       " 'the Impact:**    - Be aware that joining a course',\n",
       " 'late may require extra effort to catch up.    -',\n",
       " 'Assess whether you have the time and resources to',\n",
       " 'manage this additional workload.  By taking these',\n",
       " 'steps, you can determine whether enrolling in the',\n",
       " 'course after its start date is feasible and, if',\n",
       " 'so, make the necessary arrangements to join.']"
      ]
     },
     "execution_count": 12,
     "metadata": {},
     "output_type": "execute_result"
    }
   ],
   "source": [
    "textwrap.wrap(response.choices[0].message.content, 50)"
   ]
  },
  {
   "cell_type": "markdown",
   "metadata": {},
   "source": [
    "# Gen answer w/ OpenAI + context"
   ]
  },
  {
   "cell_type": "code",
   "execution_count": 14,
   "metadata": {},
   "outputs": [],
   "source": [
    "prompt_template = \"\"\" \n",
    "You are a course teaching assistant. \n",
    "Answer the QUESTION based on the CONTEXT.\n",
    "Use only the facts from the CONTEXT when answering\n",
    "the QUESTION.\n",
    "If the CONTEXT doesnt contain the answer, output NONE.\n",
    "\n",
    "QUESTION: {question}\n",
    "\n",
    "CONTEXT: {context}\n",
    "\n",
    "\"\"\".strip()\n",
    "\n",
    "context = ''\n",
    "\n",
    "for doc in results:\n",
    "    context = (context + \n",
    "    f\"section: {doc['section']}\\nquestion: {doc['question']}\\nanswer: {doc['text']}\\n\\n\")\n",
    "\n",
    "prompt = prompt_template.format(question=q, context=context).strip()\n",
    "# print(prompt)"
   ]
  },
  {
   "cell_type": "code",
   "execution_count": 15,
   "metadata": {},
   "outputs": [
    {
     "data": {
      "text/plain": [
       "[\"Yes, even if you don't register, you're still\",\n",
       " 'eligible to submit the homeworks. Be aware,',\n",
       " 'however, that there will be deadlines for turning',\n",
       " \"in the final projects. So don't leave everything\",\n",
       " 'for the last minute.']"
      ]
     },
     "execution_count": 15,
     "metadata": {},
     "output_type": "execute_result"
    }
   ],
   "source": [
    "response = client.chat.completions.create(\n",
    "                model='gpt-4o',\n",
    "                messages = [{'role':'user', 'content':prompt}]\n",
    ")\n",
    "textwrap.wrap(response.choices[0].message.content, 50)"
   ]
  },
  {
   "cell_type": "markdown",
   "metadata": {},
   "source": [
    "# The RAG flow"
   ]
  },
  {
   "cell_type": "code",
   "execution_count": 16,
   "metadata": {},
   "outputs": [],
   "source": [
    "# RAG - retrival augmented generation\n",
    "def search(query):\n",
    "    boost = {'question': 3., 'section': 0.5 }\n",
    "    results = index.search(\n",
    "                query = query,\n",
    "                filter_dict = {'course': 'data-engineering-zoomcamp'},\n",
    "                boost_dict = boost,\n",
    "                num_results = 10\n",
    "    )\n",
    "    return results\n",
    "\n",
    "def build_prompt(query, search_results):\n",
    "    prompt_template = \"\"\" \n",
    "    You are a course teaching assistant. \n",
    "    Answer the QUESTION based on the CONTEXT.\n",
    "    Use only the facts from the CONTEXT when answering\n",
    "    the QUESTION.\n",
    "    If the CONTEXT doesnt contain the answer, output NONE.\n",
    "\n",
    "    QUESTION: {question}\n",
    "\n",
    "    CONTEXT: {context}\n",
    "\n",
    "    \"\"\".strip()\n",
    "\n",
    "    context = ''\n",
    "\n",
    "    for doc in search_results:\n",
    "        context = (context + \n",
    "        f\"section: {doc['section']}\\nquestion: {doc['question']}\\nanswer: {doc['text']}\\n\\n\")\n",
    "\n",
    "    prompt = prompt_template.format(question=query, context=context).strip()\n",
    "    return prompt\n",
    "\n",
    "def llm(prompt):\n",
    "    response = client.chat.completions.create(\n",
    "                    model='gpt-4o',\n",
    "                    messages = [{'role':'user', 'content':prompt}]\n",
    "    )\n",
    "    return response.choices[0].message.content"
   ]
  },
  {
   "cell_type": "code",
   "execution_count": 17,
   "metadata": {},
   "outputs": [
    {
     "data": {
      "text/plain": [
       "[\"Yes, even if you don't register, you're still\",\n",
       " 'eligible to submit the homeworks. Be aware,',\n",
       " 'however, that there will be deadlines for turning',\n",
       " \"in the final projects, so don't leave everything\",\n",
       " 'for the last minute.']"
      ]
     },
     "execution_count": 17,
     "metadata": {},
     "output_type": "execute_result"
    }
   ],
   "source": [
    "query = 'the course already started. can i enroll?'\n",
    "\n",
    "def rag(query):\n",
    "    search_results = search(query)\n",
    "    prompt = build_prompt(query, search_results)\n",
    "    answer = llm(prompt)\n",
    "    return answer\n",
    "answer = rag(query)\n",
    "textwrap.wrap(answer,50)"
   ]
  },
  {
   "cell_type": "markdown",
   "metadata": {},
   "source": [
    "# Search with Elasticsearch"
   ]
  },
  {
   "cell_type": "code",
   "execution_count": null,
   "metadata": {},
   "outputs": [],
   "source": []
  },
  {
   "cell_type": "code",
   "execution_count": null,
   "metadata": {},
   "outputs": [],
   "source": []
  }
 ],
 "metadata": {
  "kernelspec": {
   "display_name": "Python 3 (ipykernel)",
   "language": "python",
   "name": "python3"
  },
  "language_info": {
   "codemirror_mode": {
    "name": "ipython",
    "version": 3
   },
   "file_extension": ".py",
   "mimetype": "text/x-python",
   "name": "python",
   "nbconvert_exporter": "python",
   "pygments_lexer": "ipython3",
   "version": "3.10.13"
  }
 },
 "nbformat": 4,
 "nbformat_minor": 4
}
